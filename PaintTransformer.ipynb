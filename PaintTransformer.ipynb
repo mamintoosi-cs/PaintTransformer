{
  "cells": [
    {
      "cell_type": "code",
      "execution_count": null,
      "metadata": {
        "colab": {
          "base_uri": "https://localhost:8080/"
        },
        "id": "xVm91xF0IXkJ",
        "outputId": "f8c59639-8580-48e4-e147-8c46d1c9548c"
      },
      "outputs": [
        {
          "name": "stdout",
          "output_type": "stream",
          "text": [
            "/content\n",
            "Cloning into 'PaintTransformer'...\n",
            "remote: Enumerating objects: 85, done.\u001b[K\n",
            "remote: Counting objects: 100% (85/85), done.\u001b[K\n",
            "remote: Compressing objects: 100% (80/80), done.\u001b[K\n",
            "remote: Total 85 (delta 18), reused 14 (delta 5), pack-reused 0\u001b[K\n",
            "Unpacking objects: 100% (85/85), done.\n",
            "/content/PaintTransformer/inference\n"
          ]
        }
      ],
      "source": [
        "# %cd /content\n",
        "# !git clone https://github.com/mamintoosi-cs/PaintTransformer.git\n",
        "# %cd PaintTransformer/inference"
      ]
    },
    {
      "cell_type": "code",
      "execution_count": 2,
      "metadata": {},
      "outputs": [
        {
          "name": "stdout",
          "output_type": "stream",
          "text": [
            "Collecting morphology\n",
            "  Downloading morphology-0.11.12.tar.gz (40 kB)\n",
            "Building wheels for collected packages: morphology\n",
            "  Building wheel for morphology (setup.py): started\n",
            "  Building wheel for morphology (setup.py): finished with status 'done'\n",
            "  Created wheel for morphology: filename=morphology-0.11.12-py3-none-any.whl size=28034 sha256=915c3e530304c8ab5d961a62ccef1d1764682119cb0f08f5c97d45a98d557631\n",
            "  Stored in directory: c:\\users\\mahmood\\appdata\\local\\pip\\cache\\wheels\\3e\\24\\08\\11ef038835de38af00aa3f5a7bdc013fb0e8f251be1c306496\n",
            "Successfully built morphology\n",
            "Installing collected packages: morphology\n",
            "Successfully installed morphology-0.11.12\n"
          ]
        },
        {
          "name": "stderr",
          "output_type": "stream",
          "text": [
            "WARNING: Ignoring invalid distribution -pencv-python (c:\\programs\\anaconda3\\envs\\ptch\\lib\\site-packages)\n",
            "WARNING: Ignoring invalid distribution -pencv-python (c:\\programs\\anaconda3\\envs\\ptch\\lib\\site-packages)\n",
            "WARNING: Ignoring invalid distribution -pencv-python (c:\\programs\\anaconda3\\envs\\ptch\\lib\\site-packages)\n",
            "WARNING: Ignoring invalid distribution -pencv-python (c:\\programs\\anaconda3\\envs\\ptch\\lib\\site-packages)\n",
            "WARNING: Ignoring invalid distribution -pencv-python (c:\\programs\\anaconda3\\envs\\ptch\\lib\\site-packages)\n",
            "WARNING: Ignoring invalid distribution -pencv-python (c:\\programs\\anaconda3\\envs\\ptch\\lib\\site-packages)\n",
            "WARNING: Ignoring invalid distribution -pencv-python (c:\\programs\\anaconda3\\envs\\ptch\\lib\\site-packages)\n",
            "WARNING: You are using pip version 21.3.1; however, version 22.0.3 is available.\n",
            "You should consider upgrading via the 'C:\\Programs\\Anaconda3\\envs\\ptch\\python.exe -m pip install --upgrade pip' command.\n"
          ]
        },
        {
          "name": "stdout",
          "output_type": "stream",
          "text": [
            "Collecting visdom\n",
            "  Downloading visdom-0.1.8.9.tar.gz (676 kB)\n",
            "Requirement already satisfied: numpy>=1.8 in c:\\programs\\anaconda3\\envs\\ptch\\lib\\site-packages (from visdom) (1.19.2)\n",
            "Requirement already satisfied: scipy in c:\\programs\\anaconda3\\envs\\ptch\\lib\\site-packages (from visdom) (1.4.1)\n",
            "Requirement already satisfied: requests in c:\\programs\\anaconda3\\envs\\ptch\\lib\\site-packages (from visdom) (2.27.1)\n",
            "Requirement already satisfied: tornado in c:\\programs\\anaconda3\\envs\\ptch\\lib\\site-packages (from visdom) (6.1)\n",
            "Requirement already satisfied: pyzmq in c:\\programs\\anaconda3\\envs\\ptch\\lib\\site-packages (from visdom) (22.3.0)\n",
            "Requirement already satisfied: six in c:\\programs\\anaconda3\\envs\\ptch\\lib\\site-packages (from visdom) (1.16.0)\n",
            "Collecting jsonpatch"
          ]
        },
        {
          "name": "stderr",
          "output_type": "stream",
          "text": [
            "WARNING: Ignoring invalid distribution -pencv-python (c:\\programs\\anaconda3\\envs\\ptch\\lib\\site-packages)\n",
            "WARNING: Ignoring invalid distribution -pencv-python (c:\\programs\\anaconda3\\envs\\ptch\\lib\\site-packages)\n",
            "WARNING: Ignoring invalid distribution -pencv-python (c:\\programs\\anaconda3\\envs\\ptch\\lib\\site-packages)\n",
            "WARNING: Ignoring invalid distribution -pencv-python (c:\\programs\\anaconda3\\envs\\ptch\\lib\\site-packages)\n",
            "WARNING: Ignoring invalid distribution -pencv-python (c:\\programs\\anaconda3\\envs\\ptch\\lib\\site-packages)\n",
            "WARNING: Ignoring invalid distribution -pencv-python (c:\\programs\\anaconda3\\envs\\ptch\\lib\\site-packages)\n"
          ]
        },
        {
          "name": "stdout",
          "output_type": "stream",
          "text": [
            "\n",
            "  Downloading jsonpatch-1.32-py2.py3-none-any.whl (12 kB)\n",
            "Collecting torchfile\n",
            "  Downloading torchfile-0.1.0.tar.gz (5.2 kB)\n",
            "Collecting websocket-client\n",
            "  Downloading websocket_client-1.2.3-py3-none-any.whl (53 kB)\n",
            "Requirement already satisfied: pillow in c:\\programs\\anaconda3\\envs\\ptch\\lib\\site-packages (from visdom) (8.4.0)\n",
            "Collecting jsonpointer>=1.9\n",
            "  Downloading jsonpointer-2.2-py2.py3-none-any.whl (7.5 kB)\n",
            "Requirement already satisfied: certifi>=2017.4.17 in c:\\programs\\anaconda3\\envs\\ptch\\lib\\site-packages (from requests->visdom) (2021.10.8)\n",
            "Requirement already satisfied: charset-normalizer~=2.0.0 in c:\\programs\\anaconda3\\envs\\ptch\\lib\\site-packages (from requests->visdom) (2.0.4)\n",
            "Requirement already satisfied: urllib3<1.27,>=1.21.1 in c:\\programs\\anaconda3\\envs\\ptch\\lib\\site-packages (from requests->visdom) (1.26.7)\n",
            "Requirement already satisfied: idna<4,>=2.5 in c:\\programs\\anaconda3\\envs\\ptch\\lib\\site-packages (from requests->visdom) (3.3)\n",
            "Building wheels for collected packages: visdom, torchfile\n",
            "  Building wheel for visdom (setup.py): started\n",
            "  Building wheel for visdom (setup.py): finished with status 'done'\n",
            "  Created wheel for visdom: filename=visdom-0.1.8.9-py3-none-any.whl size=655250 sha256=2e1544acc6d7ca074de921cddcec5f9880210d1fffa6aea3a7491490be470c0f\n",
            "  Stored in directory: c:\\users\\mahmood\\appdata\\local\\pip\\cache\\wheels\\2d\\d1\\9b\\cde923274eac9cbb6ff0d8c7c72fe30a3da9095a38fd50bbf1\n",
            "  Building wheel for torchfile (setup.py): started\n",
            "  Building wheel for torchfile (setup.py): finished with status 'done'\n",
            "  Created wheel for torchfile: filename=torchfile-0.1.0-py3-none-any.whl size=5709 sha256=5846ea4efacf5d41e74789ed806deea3dbaacdc60d590db8cd801df834e494e4\n",
            "  Stored in directory: c:\\users\\mahmood\\appdata\\local\\pip\\cache\\wheels\\ac\\5c\\3a\\a80e1c65880945c71fd833408cd1e9a8cb7e2f8f37620bb75b\n",
            "Successfully built visdom torchfile\n",
            "Installing collected packages: jsonpointer, websocket-client, torchfile, jsonpatch, visdom\n",
            "Successfully installed jsonpatch-1.32 jsonpointer-2.2 torchfile-0.1.0 visdom-0.1.8.9 websocket-client-1.2.3\n"
          ]
        },
        {
          "name": "stderr",
          "output_type": "stream",
          "text": [
            "WARNING: Ignoring invalid distribution -pencv-python (c:\\programs\\anaconda3\\envs\\ptch\\lib\\site-packages)\n",
            "WARNING: Ignoring invalid distribution -pencv-python (c:\\programs\\anaconda3\\envs\\ptch\\lib\\site-packages)\n",
            "WARNING: Ignoring invalid distribution -pencv-python (c:\\programs\\anaconda3\\envs\\ptch\\lib\\site-packages)\n",
            "WARNING: Ignoring invalid distribution -pencv-python (c:\\programs\\anaconda3\\envs\\ptch\\lib\\site-packages)\n",
            "WARNING: Ignoring invalid distribution -pencv-python (c:\\programs\\anaconda3\\envs\\ptch\\lib\\site-packages)\n",
            "WARNING: You are using pip version 21.3.1; however, version 22.0.3 is available.\n",
            "You should consider upgrading via the 'C:\\Programs\\Anaconda3\\envs\\ptch\\python.exe -m pip install --upgrade pip' command.\n"
          ]
        }
      ],
      "source": [
        "!pip install morphology\n",
        "!pip install visdom"
      ]
    },
    {
      "cell_type": "code",
      "execution_count": 2,
      "metadata": {},
      "outputs": [
        {
          "name": "stdout",
          "output_type": "stream",
          "text": [
            "c:\\temp\\git\\PaintTransformer\\inference\n"
          ]
        }
      ],
      "source": [
        "%cd inference"
      ]
    },
    {
      "cell_type": "code",
      "execution_count": 3,
      "metadata": {
        "id": "ovrg6GqOIbzm"
      },
      "outputs": [
        {
          "name": "stderr",
          "output_type": "stream",
          "text": [
            "C:\\Programs\\Anaconda3\\envs\\ptch\\lib\\site-packages\\torch\\functional.py:445: UserWarning: torch.meshgrid: in an upcoming release, it will be required to pass the indexing argument. (Triggered internally at  ..\\aten\\src\\ATen\\native\\TensorShape.cpp:2157.)\n",
            "  return _VF.meshgrid(tensors, **kwargs)  # type: ignore[attr-defined]\n"
          ]
        }
      ],
      "source": [
        "# from inference import run_inference\n",
        "import inference\n",
        "file_name = 'Landscape_01'\n",
        "input_img = 'input/{}.jpg'.format(file_name)\n",
        "\n",
        "model_path = 'C:/temp/working/Painting/code/PaintTransformer/inference/model.pth'\n",
        "output_dir = 'C:/temp/working/Painting/code/PaintTransformer/inference/output/'\n",
        "\n",
        "inference.run_inference(input_path=input_img,\n",
        "              model_path=model_path,\n",
        "              output_dir=output_dir, # whether need intermediate results for animation.\n",
        "              need_animation=True,  # resize original input to this size. None means do not resize.\n",
        "              resize_h=None,        # resize original input to this size. None means do not resize.\n",
        "              resize_w=None,\n",
        "              serial=True)          # if need animation, serial must be True."
      ]
    },
    {
      "cell_type": "code",
      "execution_count": null,
      "metadata": {
        "id": "63S0ohZmI1Qf"
      },
      "outputs": [],
      "source": [
        "# Create gif from individual steps\n",
        "import glob\n",
        "from PIL import Image\n",
        "\n",
        "# Set to dir with output images\n",
        "in_dir = '{}/{}/*.jpg'.format(output_dir,file_name)\n",
        "out_path = '{}/{}.gif'.format(output_dir,file_name)\n",
        "\n",
        "img, *imgs = [Image.open(f) for f in sorted(glob.glob(in_dir))]\n",
        "img.save(fp=out_path, format='GIF', append_images=imgs,\n",
        "          save_all=True, duration=100, loop=0)"
      ]
    }
  ],
  "metadata": {
    "accelerator": "GPU",
    "colab": {
      "collapsed_sections": [],
      "name": "PaintTransformer.ipynb",
      "provenance": []
    },
    "kernelspec": {
      "display_name": "Python 3",
      "name": "python3"
    },
    "language_info": {
      "codemirror_mode": {
        "name": "ipython",
        "version": 3
      },
      "file_extension": ".py",
      "mimetype": "text/x-python",
      "name": "python",
      "nbconvert_exporter": "python",
      "pygments_lexer": "ipython3",
      "version": "3.7.11"
    }
  },
  "nbformat": 4,
  "nbformat_minor": 0
}
